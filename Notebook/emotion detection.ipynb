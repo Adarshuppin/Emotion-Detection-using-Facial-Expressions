{
  "cells": [
    {
      "cell_type": "code",
      "execution_count": null,
      "metadata": {
        "id": "ngEFuVhc2lRE"
      },
      "outputs": [],
      "source": [
        "from keras.preprocessing.image import ImageDataGenerator\n",
        "from keras.models import Sequential\n",
        "from keras.layers import Dense,Dropout,Flatten\n",
        "from keras.layers import Conv2D,MaxPooling2D\n",
        "import os\n",
        "from matplotlib import pyplot as plt\n",
        "import numpy as np"
      ]
    },
    {
      "cell_type": "code",
      "execution_count": null,
      "metadata": {
        "id": "WEC1zHqY33y4"
      },
      "outputs": [],
      "source": [
        "IMG_HEIGHT=48\n",
        "IMG_WIDTH = 48\n",
        "batch_size=32\n"
      ]
    },
    {
      "cell_type": "code",
      "execution_count": null,
      "metadata": {
        "colab": {
          "base_uri": "https://localhost:8080/"
        },
        "id": "PhTGwwww44ft",
        "outputId": "2877733b-4413-434b-d975-8003f8dfd9c0"
      },
      "outputs": [
        {
          "output_type": "stream",
          "name": "stdout",
          "text": [
            "Cloning into 'Emotion-Detection-Using-Facial-Expression'...\n",
            "remote: Enumerating objects: 34059, done.\u001b[K\n",
            "remote: Counting objects: 100% (6/6), done.\u001b[K\n",
            "remote: Compressing objects: 100% (4/4), done.\u001b[K\n",
            "remote: Total 34059 (delta 0), reused 3 (delta 0), pack-reused 34053\u001b[K\n",
            "Receiving objects: 100% (34059/34059), 52.51 MiB | 24.37 MiB/s, done.\n",
            "Resolving deltas: 100% (4/4), done.\n",
            "Updating files: 100% (35889/35889), done.\n"
          ]
        }
      ],
      "source": [
        "!git clone https://github.com/Achyut2022/Emotion-Detection-Using-Facial-Expression.git\n"
      ]
    },
    {
      "cell_type": "code",
      "execution_count": null,
      "metadata": {
        "id": "oaCBTMJ839V8"
      },
      "outputs": [],
      "source": [
        "train_data_dir='/content/Emotion-Detection-Using-Facial-Expression/FER-2013/train'\n",
        "validation_data_dir='/content/Emotion-Detection-Using-Facial-Expression/FER-2013/train'\n",
        "\n",
        "train_datagen = ImageDataGenerator(\n",
        "\t\t\t\t\trescale=1./255,\n",
        "\t\t\t\t\trotation_range=30,\n",
        "\t\t\t\t\tshear_range=0.3,\n",
        "\t\t\t\t\tzoom_range=0.3,\n",
        "\t\t\t\t\thorizontal_flip=True,\n",
        "\t\t\t\t\tfill_mode='nearest')\n",
        "\n",
        "validation_datagen = ImageDataGenerator(rescale=1./255)"
      ]
    },
    {
      "cell_type": "code",
      "execution_count": null,
      "metadata": {
        "colab": {
          "base_uri": "https://localhost:8080/"
        },
        "id": "MMotuto_5OKl",
        "outputId": "53d5e6bb-af10-4b1a-e7a5-089b763b6d00"
      },
      "outputs": [
        {
          "output_type": "stream",
          "name": "stdout",
          "text": [
            "Found 28709 images belonging to 7 classes.\n",
            "Found 28709 images belonging to 7 classes.\n"
          ]
        }
      ],
      "source": [
        "train_generator = train_datagen.flow_from_directory(\n",
        "\t\t\t\t\ttrain_data_dir,\n",
        "\t\t\t\t\tcolor_mode='grayscale',\n",
        "\t\t\t\t\ttarget_size=(IMG_HEIGHT, IMG_WIDTH),\n",
        "\t\t\t\t\tbatch_size=batch_size,\n",
        "\t\t\t\t\tclass_mode='categorical',\n",
        "\t\t\t\t\tshuffle=True)\n",
        "\n",
        "validation_generator = validation_datagen.flow_from_directory(\n",
        "\t\t\t\t\t\t\tvalidation_data_dir,\n",
        "\t\t\t\t\t\t\tcolor_mode='grayscale',\n",
        "\t\t\t\t\t\t\ttarget_size=(IMG_HEIGHT, IMG_WIDTH),\n",
        "\t\t\t\t\t\t\tbatch_size=batch_size,\n",
        "\t\t\t\t\t\t\tclass_mode='categorical',\n",
        "\t\t\t\t\t\t\tshuffle=True)\n"
      ]
    },
    {
      "cell_type": "code",
      "execution_count": null,
      "metadata": {
        "colab": {
          "base_uri": "https://localhost:8080/",
          "height": 452
        },
        "id": "4qkBazlh5TK3",
        "outputId": "4a99529d-60a8-49a6-f189-c334635090e1"
      },
      "outputs": [
        {
          "output_type": "display_data",
          "data": {
            "text/plain": [
              "<Figure size 640x480 with 1 Axes>"
            ],
            "image/png": "[encoded data removed]"
          },
          "metadata": {}
        }
      ],
      "source": [
        "class_labels=['Angry','Disgust', 'Fear', 'Happy','Neutral','Sad','Surprise']\n",
        "\n",
        "img, label = train_generator.__next__()\n",
        "\n",
        "\n",
        "import random\n",
        "\n",
        "i=random.randint(0, (img.shape[0])-1)\n",
        "image = img[i]\n",
        "labl = class_labels[label[i].argmax()]\n",
        "plt.imshow(image[:,:,0], cmap='gray')\n",
        "plt.title(labl)\n",
        "plt.show()"
      ]
    },
    {
      "cell_type": "code",
      "execution_count": null,
      "metadata": {
        "colab": {
          "base_uri": "https://localhost:8080/"
        },
        "id": "aMAcUmvs5Xs9",
        "outputId": "bb809941-ce86-40e4-9b44-08e322792d3f"
      },
      "outputs": [
        {
          "output_type": "stream",
          "name": "stdout",
          "text": [
            "Model: \"sequential\"\n",
            "_________________________________________________________________\n",
            " Layer (type)                Output Shape              Param #   \n",
            "=================================================================\n",
            " conv2d (Conv2D)             (None, 46, 46, 32)        320       \n",
            "                                                                 \n",
            " conv2d_1 (Conv2D)           (None, 44, 44, 64)        18496     \n",
            "                                                                 \n",
            " max_pooling2d (MaxPooling2  (None, 22, 22, 64)        0         \n",
            " D)                                                              \n",
            "                                                                 \n",
            " dropout (Dropout)           (None, 22, 22, 64)        0         \n",
            "                                                                 \n",
            " conv2d_2 (Conv2D)           (None, 20, 20, 128)       73856     \n",
            "                                                                 \n",
            " max_pooling2d_1 (MaxPoolin  (None, 10, 10, 128)       0         \n",
            " g2D)                                                            \n",
            "                                                                 \n",
            " dropout_1 (Dropout)         (None, 10, 10, 128)       0         \n",
            "                                                                 \n",
            " conv2d_3 (Conv2D)           (None, 8, 8, 256)         295168    \n",
            "                                                                 \n",
            " max_pooling2d_2 (MaxPoolin  (None, 4, 4, 256)         0         \n",
            " g2D)                                                            \n",
            "                                                                 \n",
            " dropout_2 (Dropout)         (None, 4, 4, 256)         0         \n",
            "                                                                 \n",
            " flatten (Flatten)           (None, 4096)              0         \n",
            "                                                                 \n",
            " dense (Dense)               (None, 512)               2097664   \n",
            "                                                                 \n",
            " dropout_3 (Dropout)         (None, 512)               0         \n",
            "                                                                 \n",
            " dense_1 (Dense)             (None, 7)                 3591      \n",
            "                                                                 \n",
            "=================================================================\n",
            "Total params: 2489095 (9.50 MB)\n",
            "Trainable params: 2489095 (9.50 MB)\n",
            "Non-trainable params: 0 (0.00 Byte)\n",
            "_________________________________________________________________\n",
            "None\n"
          ]
        }
      ],
      "source": [
        "model = Sequential()\n",
        "\n",
        "model.add(Conv2D(32, kernel_size=(3, 3), activation='relu', input_shape=(48,48,1)))\n",
        "\n",
        "model.add(Conv2D(64, kernel_size=(3, 3), activation='relu'))\n",
        "model.add(MaxPooling2D(pool_size=(2, 2)))\n",
        "model.add(Dropout(0.1))\n",
        "\n",
        "model.add(Conv2D(128, kernel_size=(3, 3), activation='relu'))\n",
        "model.add(MaxPooling2D(pool_size=(2, 2)))\n",
        "model.add(Dropout(0.1))\n",
        "\n",
        "model.add(Conv2D(256, kernel_size=(3, 3), activation='relu'))\n",
        "model.add(MaxPooling2D(pool_size=(2, 2)))\n",
        "model.add(Dropout(0.1))\n",
        "\n",
        "model.add(Flatten())\n",
        "model.add(Dense(512, activation='relu'))\n",
        "model.add(Dropout(0.2))\n",
        "\n",
        "model.add(Dense(7, activation='softmax'))\n",
        "\n",
        "model.compile(optimizer = 'adam', loss='categorical_crossentropy', metrics=['accuracy'])\n",
        "print(model.summary())\n",
        "\n"
      ]
    },
    {
      "cell_type": "code",
      "execution_count": null,
      "metadata": {
        "id": "gi7RN5SJ5dps"
      },
      "outputs": [],
      "source": [
        "train_path = \"/content/Emotion-Detection-Using-Facial-Expression/FER-2013/train\"\n",
        "test_path = \"/content/Emotion-Detection-Using-Facial-Expression/FER-2013/test\"\n",
        "\n",
        "num_train_imgs = 0\n",
        "for root, dirs, files in os.walk(train_path):\n",
        "    num_train_imgs += len(files)\n",
        "\n",
        "num_test_imgs = 0\n",
        "for root, dirs, files in os.walk(test_path):\n",
        "    num_test_imgs += len(files)\n",
        "\n",
        "\n",
        "epochs=75"
      ]
    },
    {
      "cell_type": "code",
      "execution_count": null,
      "metadata": {
        "colab": {
          "base_uri": "https://localhost:8080/"
        },
        "id": "ISFHuIGV5uUE",
        "outputId": "fc5ff5a7-7c30-4973-8fe4-7aa590ebf145"
      },
      "outputs": [
        {
          "output_type": "stream",
          "name": "stdout",
          "text": [
            "Epoch 1/75\n",
            "897/897 [==============================] - 45s 43ms/step - loss: 1.7815 - accuracy: 0.2641 - val_loss: 1.7005 - val_accuracy: 0.3200\n",
            "Epoch 2/75\n",
            "897/897 [==============================] - 31s 35ms/step - loss: 1.6669 - accuracy: 0.3332 - val_loss: 1.5296 - val_accuracy: 0.4134\n",
            "Epoch 3/75\n",
            "897/897 [==============================] - 29s 32ms/step - loss: 1.5316 - accuracy: 0.4014 - val_loss: 1.4113 - val_accuracy: 0.4526\n",
            "Epoch 4/75\n",
            "897/897 [==============================] - 31s 34ms/step - loss: 1.4410 - accuracy: 0.4422 - val_loss: 1.2714 - val_accuracy: 0.5099\n",
            "Epoch 5/75\n",
            "897/897 [==============================] - 27s 30ms/step - loss: 1.3813 - accuracy: 0.4720 - val_loss: 1.2454 - val_accuracy: 0.5163\n",
            "Epoch 6/75\n",
            "897/897 [==============================] - 29s 32ms/step - loss: 1.3421 - accuracy: 0.4873 - val_loss: 1.1679 - val_accuracy: 0.5516\n",
            "Epoch 7/75\n",
            "897/897 [==============================] - 28s 31ms/step - loss: 1.3132 - accuracy: 0.4971 - val_loss: 1.1702 - val_accuracy: 0.5495\n",
            "Epoch 8/75\n",
            "897/897 [==============================] - 27s 31ms/step - loss: 1.2913 - accuracy: 0.5070 - val_loss: 1.1341 - val_accuracy: 0.5744\n",
            "Epoch 9/75\n",
            "897/897 [==============================] - 29s 32ms/step - loss: 1.2634 - accuracy: 0.5176 - val_loss: 1.1081 - val_accuracy: 0.5847\n",
            "Epoch 10/75\n",
            "897/897 [==============================] - 28s 31ms/step - loss: 1.2556 - accuracy: 0.5242 - val_loss: 1.1288 - val_accuracy: 0.5674\n",
            "Epoch 11/75\n",
            "897/897 [==============================] - 28s 31ms/step - loss: 1.2452 - accuracy: 0.5256 - val_loss: 1.0789 - val_accuracy: 0.5876\n",
            "Epoch 12/75\n",
            "897/897 [==============================] - 28s 31ms/step - loss: 1.2247 - accuracy: 0.5353 - val_loss: 1.0778 - val_accuracy: 0.5818\n",
            "Epoch 13/75\n",
            "897/897 [==============================] - 28s 31ms/step - loss: 1.2176 - accuracy: 0.5389 - val_loss: 1.0616 - val_accuracy: 0.5944\n",
            "Epoch 14/75\n",
            "897/897 [==============================] - 28s 31ms/step - loss: 1.2093 - accuracy: 0.5415 - val_loss: 1.0687 - val_accuracy: 0.5910\n",
            "Epoch 15/75\n",
            "897/897 [==============================] - 28s 31ms/step - loss: 1.2108 - accuracy: 0.5401 - val_loss: 1.0391 - val_accuracy: 0.6148\n",
            "Epoch 16/75\n",
            "897/897 [==============================] - 29s 32ms/step - loss: 1.1942 - accuracy: 0.5440 - val_loss: 1.0315 - val_accuracy: 0.6141\n",
            "Epoch 17/75\n",
            "897/897 [==============================] - 28s 31ms/step - loss: 1.1852 - accuracy: 0.5515 - val_loss: 1.0354 - val_accuracy: 0.6042\n",
            "Epoch 18/75\n",
            "897/897 [==============================] - 27s 30ms/step - loss: 1.1808 - accuracy: 0.5540 - val_loss: 1.0220 - val_accuracy: 0.6077\n",
            "Epoch 19/75\n",
            "897/897 [==============================] - 28s 31ms/step - loss: 1.1697 - accuracy: 0.5540 - val_loss: 1.0025 - val_accuracy: 0.6236\n",
            "Epoch 20/75\n",
            "897/897 [==============================] - 30s 34ms/step - loss: 1.1678 - accuracy: 0.5569 - val_loss: 1.0060 - val_accuracy: 0.6136\n",
            "Epoch 21/75\n",
            "897/897 [==============================] - 28s 31ms/step - loss: 1.1613 - accuracy: 0.5584 - val_loss: 1.0248 - val_accuracy: 0.6147\n",
            "Epoch 22/75\n",
            "897/897 [==============================] - 28s 31ms/step - loss: 1.1616 - accuracy: 0.5588 - val_loss: 0.9977 - val_accuracy: 0.6240\n",
            "Epoch 23/75\n",
            "897/897 [==============================] - 27s 30ms/step - loss: 1.1511 - accuracy: 0.5641 - val_loss: 1.0042 - val_accuracy: 0.6177\n",
            "Epoch 24/75\n",
            "897/897 [==============================] - 27s 30ms/step - loss: 1.1435 - accuracy: 0.5668 - val_loss: 0.9998 - val_accuracy: 0.6283\n",
            "Epoch 25/75\n",
            "897/897 [==============================] - 28s 31ms/step - loss: 1.1404 - accuracy: 0.5648 - val_loss: 0.9811 - val_accuracy: 0.6226\n",
            "Epoch 26/75\n",
            "897/897 [==============================] - 27s 31ms/step - loss: 1.1315 - accuracy: 0.5735 - val_loss: 0.9781 - val_accuracy: 0.6306\n",
            "Epoch 27/75\n",
            "897/897 [==============================] - 27s 30ms/step - loss: 1.1356 - accuracy: 0.5687 - val_loss: 0.9637 - val_accuracy: 0.6341\n",
            "Epoch 28/75\n",
            "897/897 [==============================] - 27s 30ms/step - loss: 1.1268 - accuracy: 0.5743 - val_loss: 0.9500 - val_accuracy: 0.6399\n",
            "Epoch 29/75\n",
            "897/897 [==============================] - 28s 31ms/step - loss: 1.1300 - accuracy: 0.5718 - val_loss: 0.9726 - val_accuracy: 0.6334\n",
            "Epoch 30/75\n",
            "897/897 [==============================] - 28s 31ms/step - loss: 1.1189 - accuracy: 0.5778 - val_loss: 0.9561 - val_accuracy: 0.6430\n",
            "Epoch 31/75\n",
            "897/897 [==============================] - 27s 30ms/step - loss: 1.1205 - accuracy: 0.5754 - val_loss: 0.9338 - val_accuracy: 0.6503\n",
            "Epoch 32/75\n",
            "897/897 [==============================] - 27s 30ms/step - loss: 1.1102 - accuracy: 0.5774 - val_loss: 0.9551 - val_accuracy: 0.6390\n",
            "Epoch 33/75\n",
            "897/897 [==============================] - 30s 34ms/step - loss: 1.1084 - accuracy: 0.5770 - val_loss: 0.9297 - val_accuracy: 0.6557\n",
            "Epoch 34/75\n",
            "897/897 [==============================] - 27s 30ms/step - loss: 1.1000 - accuracy: 0.5805 - val_loss: 0.9544 - val_accuracy: 0.6497\n",
            "Epoch 35/75\n",
            "897/897 [==============================] - 27s 31ms/step - loss: 1.1045 - accuracy: 0.5849 - val_loss: 0.9376 - val_accuracy: 0.6521\n",
            "Epoch 36/75\n",
            "897/897 [==============================] - 27s 31ms/step - loss: 1.1046 - accuracy: 0.5813 - val_loss: 0.9393 - val_accuracy: 0.6466\n",
            "Epoch 37/75\n",
            "897/897 [==============================] - 28s 31ms/step - loss: 1.1033 - accuracy: 0.5841 - val_loss: 0.9313 - val_accuracy: 0.6494\n",
            "Epoch 38/75\n",
            "897/897 [==============================] - 27s 30ms/step - loss: 1.0962 - accuracy: 0.5870 - val_loss: 0.9216 - val_accuracy: 0.6484\n",
            "Epoch 39/75\n",
            "897/897 [==============================] - 27s 30ms/step - loss: 1.0932 - accuracy: 0.5849 - val_loss: 0.9296 - val_accuracy: 0.6511\n",
            "Epoch 40/75\n",
            "897/897 [==============================] - 27s 30ms/step - loss: 1.0916 - accuracy: 0.5892 - val_loss: 0.9460 - val_accuracy: 0.6526\n",
            "Epoch 41/75\n",
            "897/897 [==============================] - 28s 31ms/step - loss: 1.0892 - accuracy: 0.5894 - val_loss: 0.9077 - val_accuracy: 0.6562\n",
            "Epoch 42/75\n",
            "897/897 [==============================] - 27s 30ms/step - loss: 1.0900 - accuracy: 0.5908 - val_loss: 0.9062 - val_accuracy: 0.6576\n",
            "Epoch 43/75\n",
            "897/897 [==============================] - 28s 31ms/step - loss: 1.0843 - accuracy: 0.5905 - val_loss: 0.9447 - val_accuracy: 0.6470\n",
            "Epoch 44/75\n",
            "897/897 [==============================] - 28s 31ms/step - loss: 1.0760 - accuracy: 0.5931 - val_loss: 0.9116 - val_accuracy: 0.6540\n",
            "Epoch 45/75\n",
            "897/897 [==============================] - 27s 31ms/step - loss: 1.0787 - accuracy: 0.5917 - val_loss: 0.9028 - val_accuracy: 0.6609\n",
            "Epoch 46/75\n",
            "897/897 [==============================] - 27s 30ms/step - loss: 1.0815 - accuracy: 0.5927 - val_loss: 0.9179 - val_accuracy: 0.6530\n",
            "Epoch 47/75\n",
            "897/897 [==============================] - 27s 30ms/step - loss: 1.0661 - accuracy: 0.5973 - val_loss: 0.8988 - val_accuracy: 0.6678\n",
            "Epoch 48/75\n",
            "897/897 [==============================] - 27s 30ms/step - loss: 1.0780 - accuracy: 0.5921 - val_loss: 0.8931 - val_accuracy: 0.6617\n",
            "Epoch 49/75\n",
            "897/897 [==============================] - 27s 30ms/step - loss: 1.0769 - accuracy: 0.5964 - val_loss: 0.8703 - val_accuracy: 0.6758\n",
            "Epoch 50/75\n",
            "897/897 [==============================] - 31s 34ms/step - loss: 1.0687 - accuracy: 0.5933 - val_loss: 0.8886 - val_accuracy: 0.6625\n",
            "Epoch 51/75\n",
            "897/897 [==============================] - 30s 33ms/step - loss: 1.0662 - accuracy: 0.5970 - val_loss: 0.8875 - val_accuracy: 0.6627\n",
            "Epoch 52/75\n",
            "897/897 [==============================] - 32s 35ms/step - loss: 1.0695 - accuracy: 0.5959 - val_loss: 0.8685 - val_accuracy: 0.6794\n",
            "Epoch 53/75\n",
            "897/897 [==============================] - 28s 31ms/step - loss: 1.0711 - accuracy: 0.5951 - val_loss: 0.8824 - val_accuracy: 0.6617\n",
            "Epoch 54/75\n",
            "897/897 [==============================] - 27s 30ms/step - loss: 1.0585 - accuracy: 0.5974 - val_loss: 0.9068 - val_accuracy: 0.6629\n",
            "Epoch 55/75\n",
            "897/897 [==============================] - 29s 32ms/step - loss: 1.0578 - accuracy: 0.6012 - val_loss: 0.8451 - val_accuracy: 0.6840\n",
            "Epoch 56/75\n",
            "897/897 [==============================] - 27s 30ms/step - loss: 1.0509 - accuracy: 0.6011 - val_loss: 0.8856 - val_accuracy: 0.6628\n",
            "Epoch 57/75\n",
            "897/897 [==============================] - 28s 31ms/step - loss: 1.0483 - accuracy: 0.6008 - val_loss: 0.8744 - val_accuracy: 0.6678\n",
            "Epoch 58/75\n",
            "897/897 [==============================] - 30s 33ms/step - loss: 1.0568 - accuracy: 0.6042 - val_loss: 0.8695 - val_accuracy: 0.6698\n",
            "Epoch 59/75\n",
            "897/897 [==============================] - 27s 30ms/step - loss: 1.0565 - accuracy: 0.6032 - val_loss: 0.8618 - val_accuracy: 0.6701\n",
            "Epoch 60/75\n",
            "897/897 [==============================] - 27s 30ms/step - loss: 1.0518 - accuracy: 0.6047 - val_loss: 0.8758 - val_accuracy: 0.6735\n",
            "Epoch 61/75\n",
            "897/897 [==============================] - 27s 30ms/step - loss: 1.0555 - accuracy: 0.5983 - val_loss: 0.8965 - val_accuracy: 0.6614\n",
            "Epoch 62/75\n",
            "897/897 [==============================] - 29s 33ms/step - loss: 1.0479 - accuracy: 0.6057 - val_loss: 0.8701 - val_accuracy: 0.6726\n",
            "Epoch 63/75\n",
            "897/897 [==============================] - 27s 30ms/step - loss: 1.0510 - accuracy: 0.6023 - val_loss: 0.8341 - val_accuracy: 0.6900\n",
            "Epoch 64/75\n",
            "897/897 [==============================] - 29s 32ms/step - loss: 1.0441 - accuracy: 0.6084 - val_loss: 0.8808 - val_accuracy: 0.6687\n",
            "Epoch 65/75\n",
            "897/897 [==============================] - 27s 30ms/step - loss: 1.0424 - accuracy: 0.6073 - val_loss: 0.8400 - val_accuracy: 0.6851\n",
            "Epoch 66/75\n",
            "897/897 [==============================] - 27s 30ms/step - loss: 1.0447 - accuracy: 0.6068 - val_loss: 0.8376 - val_accuracy: 0.6896\n",
            "Epoch 67/75\n",
            "897/897 [==============================] - 27s 30ms/step - loss: 1.0427 - accuracy: 0.6081 - val_loss: 0.8290 - val_accuracy: 0.6864\n",
            "Epoch 68/75\n",
            "897/897 [==============================] - 27s 30ms/step - loss: 1.0447 - accuracy: 0.6084 - val_loss: 0.8650 - val_accuracy: 0.6836\n",
            "Epoch 69/75\n",
            "897/897 [==============================] - 27s 30ms/step - loss: 1.0420 - accuracy: 0.6103 - val_loss: 0.8709 - val_accuracy: 0.6738\n",
            "Epoch 70/75\n",
            "897/897 [==============================] - 27s 30ms/step - loss: 1.0288 - accuracy: 0.6096 - val_loss: 0.8227 - val_accuracy: 0.6904\n",
            "Epoch 71/75\n",
            "897/897 [==============================] - 27s 30ms/step - loss: 1.0342 - accuracy: 0.6108 - val_loss: 0.8239 - val_accuracy: 0.6911\n",
            "Epoch 72/75\n",
            "897/897 [==============================] - 27s 30ms/step - loss: 1.0355 - accuracy: 0.6102 - val_loss: 0.8421 - val_accuracy: 0.6814\n",
            "Epoch 73/75\n",
            "897/897 [==============================] - 27s 30ms/step - loss: 1.0297 - accuracy: 0.6094 - val_loss: 0.8662 - val_accuracy: 0.6770\n",
            "Epoch 74/75\n",
            "897/897 [==============================] - 27s 30ms/step - loss: 1.0321 - accuracy: 0.6090 - val_loss: 0.8376 - val_accuracy: 0.6821\n",
            "Epoch 75/75\n",
            "897/897 [==============================] - 30s 33ms/step - loss: 1.0292 - accuracy: 0.6106 - val_loss: 0.8434 - val_accuracy: 0.6801\n"
          ]
        },
        {
          "output_type": "stream",
          "name": "stderr",
          "text": [
            "/usr/local/lib/python3.10/dist-packages/keras/src/engine/training.py:3103: UserWarning: You are saving your model as an HDF5 file via `model.save()`. This file format is considered legacy. We recommend using instead the native Keras format, e.g. `model.save('my_model.keras')`.\n",
            "  saving_api.save_model(\n"
          ]
        }
      ],
      "source": [
        "\n",
        "history=model.fit(train_generator,\n",
        "                steps_per_epoch=num_train_imgs//batch_size,\n",
        "                epochs=epochs,\n",
        "                validation_data=validation_generator,\n",
        "                validation_steps=num_test_imgs//batch_size)\n",
        "\n",
        "model.save('/content/Emotion-Detection-Using-Facial-Expression/FER-2013/model.h5')"
      ]
    },
    {
      "cell_type": "code",
      "execution_count": null,
      "metadata": {
        "colab": {
          "base_uri": "https://localhost:8080/"
        },
        "id": "soL-Ycgj6A3V",
        "outputId": "6614df59-6564-4bfc-d9c8-af46132da800"
      },
      "outputs": [
        {
          "name": "stderr",
          "output_type": "stream",
          "text": [
            "WARNING:tensorflow:6 out of the last 6 calls to <function Model.make_predict_function.<locals>.predict_function at 0x79d606dc37f0> triggered tf.function retracing. Tracing is expensive and the excessive number of tracings could be due to (1) creating @tf.function repeatedly in a loop, (2) passing tensors with different shapes, (3) passing Python objects instead of tensors. For (1), please define your @tf.function outside of the loop. For (2), @tf.function has reduce_retracing=True option that can avoid unnecessary retracing. For (3), please refer to https://www.tensorflow.org/guide/function#controlling_retracing and https://www.tensorflow.org/api_docs/python/tf/function for  more details.\n"
          ]
        },
        {
          "name": "stdout",
          "output_type": "stream",
          "text": [
            "1/1 [==============================] - 8s 8s/step\n"
          ]
        }
      ],
      "source": [
        "from keras.models import load_model\n",
        "\n",
        "\n",
        "#Test the model\n",
        "my_model = load_model('/content/Emotion-Detection-Using-Facial-Expression/FER-2013/model.h5', compile=False)\n",
        "\n",
        "#Generate a batch of images\n",
        "test_img, test_lbl = validation_generator.__next__()\n",
        "predictions=my_model.predict(test_img)\n",
        "\n",
        "predictions = np.argmax(predictions, axis=1)\n",
        "test_labels = np.argmax(test_lbl, axis=1)"
      ]
    },
    {
      "cell_type": "code",
      "execution_count": null,
      "metadata": {
        "colab": {
          "base_uri": "https://localhost:8080/",
          "height": 470
        },
        "id": "M3ewMaDe8AeU",
        "outputId": "eaa09f3a-7362-4b19-a8cb-2d0e50cc2848"
      },
      "outputs": [
        {
          "name": "stdout",
          "output_type": "stream",
          "text": [
            "Accuracy =  0.71875\n"
          ]
        },
        {
          "data": {
            "image/png": "[encoded data removed]",
            "text/plain": [
              "<Figure size 640x480 with 2 Axes>"
            ]
          },
          "metadata": {},
          "output_type": "display_data"
        }
      ],
      "source": [
        "from sklearn import metrics\n",
        "print (\"Accuracy = \", metrics.accuracy_score(test_labels, predictions))\n",
        "\n",
        "#Confusion Matrix - verify accuracy of each class\n",
        "from sklearn.metrics import confusion_matrix\n",
        "\n",
        "cm = confusion_matrix(test_labels, predictions)\n",
        "#print(cm)\n",
        "import seaborn as sns\n",
        "sns.heatmap(cm, annot=True)\n",
        "\n",
        "class_labels=['Angry','Disgust', 'Fear', 'Happy','Neutral','Sad','Surprise']\n",
        "#Check results on a few select images\n",
        "n=random.randint(0, test_img.shape[0] - 1)\n",
        "image = test_img[n]\n",
        "orig_labl = class_labels[test_labels[n]]\n",
        "pred_labl = class_labels[predictions[n]]\n",
        "plt.imshow(image[:,:,0], cmap='gray')\n",
        "plt.title(\"Original label is:\"+orig_labl+\" Predicted is: \"+ pred_labl)\n",
        "plt.show()"
      ]
    },
    {
      "cell_type": "code",
      "execution_count": null,
      "metadata": {
        "id": "sSKaULWY8Hhj"
      },
      "outputs": [],
      "source": []
    }
  ],
  "metadata": {
    "colab": {
      "provenance": [],
      "gpuType": "T4"
    },
    "kernelspec": {
      "display_name": "Python 3",
      "name": "python3"
    },
    "language_info": {
      "name": "python"
    },
    "accelerator": "GPU"
  },
  "nbformat": 4,
  "nbformat_minor": 0
}